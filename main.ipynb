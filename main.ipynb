{
 "cells": [
  {
   "cell_type": "code",
   "execution_count": 4,
   "metadata": {},
   "outputs": [],
   "source": [
    "import speech_recognition as sr\n",
    "from googletrans import Translator\n",
    "from deep_translator import GoogleTranslator\n",
    "from moviepy.editor import VideoFileClip, AudioFileClip, CompositeVideoClip\n",
    "from gtts import gTTS\n",
    "\n"
   ]
  },
  {
   "cell_type": "markdown",
   "metadata": {},
   "source": [
    "Extract audio from video\n"
   ]
  },
  {
   "cell_type": "code",
   "execution_count": 5,
   "metadata": {},
   "outputs": [
    {
     "name": "stdout",
     "output_type": "stream",
     "text": [
      "MoviePy - Writing audio in output_audio.wav\n"
     ]
    },
    {
     "name": "stderr",
     "output_type": "stream",
     "text": [
      "                                                                     \r"
     ]
    },
    {
     "name": "stdout",
     "output_type": "stream",
     "text": [
      "MoviePy - Done.\n",
      "Moviepy - Building video output_video.mp4.\n",
      "Moviepy - Writing video output_video.mp4\n",
      "\n"
     ]
    },
    {
     "name": "stderr",
     "output_type": "stream",
     "text": [
      "                                                                 \r"
     ]
    },
    {
     "name": "stdout",
     "output_type": "stream",
     "text": [
      "Moviepy - Done !\n",
      "Moviepy - video ready output_video.mp4\n"
     ]
    }
   ],
   "source": [
    "\n",
    "output_video_path='output_video.mp4'\n",
    "video_path = 'input.mp4'\n",
    "\n",
    "video = VideoFileClip(video_path)\n",
    "\n",
    "audio = video.audio\n",
    "\n",
    "audio.write_audiofile('output_audio.wav')\n",
    "\n",
    "video = video.set_audio(None)\n",
    "\n",
    "# Save the video without audio\n",
    "video.write_videofile(output_video_path, codec='libx264', audio_codec='aac', threads=4)\n",
    "\n",
    "\n",
    "\n",
    "video.close()\n",
    "audio.close()\n"
   ]
  },
  {
   "cell_type": "markdown",
   "metadata": {},
   "source": [
    "Speech to Text"
   ]
  },
  {
   "cell_type": "code",
   "execution_count": 6,
   "metadata": {},
   "outputs": [
    {
     "name": "stdout",
     "output_type": "stream",
     "text": [
      "Converted Text (using Pocketsphinx): it takes to sing you a cuckoo it's time to get to reinvent to enough to say that in the abundance of caution the fact that had to leave the fields of an ancient times he who has to cap the tugboat the most precious i find it hi it's me and and and the steeply in julia's kitchen seventy the hand high but hanging up on the nyhan of the time and financed by half the votes that up a what\n"
     ]
    }
   ],
   "source": [
    "\n",
    "\n",
    "translator = Translator()\n",
    "\n",
    "recognizer = sr.Recognizer() \n",
    "audio_file = \"output_audio.wav\"  # Replace with your audio file path\n",
    "with sr.AudioFile(audio_file) as source:\n",
    "    recognizer.adjust_for_ambient_noise(source)  # Adjust for ambient noise if necessary\n",
    "    audio_data = recognizer.record(source)\n",
    "    try:\n",
    "        text = recognizer.recognize_sphinx(audio_data)\n",
    "        print(\"Converted Text (using Pocketsphinx): \" + text)\n",
    "    except sr.UnknownValueError:\n",
    "        print(\"Pocketsphinx could not understand the audio\")\n",
    "    except sr.RequestError as e:\n",
    "        print(f\"Speech recognition request failed; {e}\")\n",
    "\n",
    "\n"
   ]
  },
  {
   "cell_type": "markdown",
   "metadata": {},
   "source": [
    "Translate the text"
   ]
  },
  {
   "cell_type": "code",
   "execution_count": 7,
   "metadata": {},
   "outputs": [
    {
     "name": "stdout",
     "output_type": "stream",
     "text": [
      "आपको कोयल गाने में समय लगता है, यह कहने के लिए पर्याप्त रूप से पुन: आविष्कार करने का समय है कि सावधानी की प्रचुरता में तथ्य यह है कि प्राचीन काल के खेतों को छोड़ना पड़ता है, जिसे टगबोट पर टोपी लगानी होती है, वह सबसे कीमती है, मुझे यह हाय लगता है। मैं और और और जूलिया की रसोई में सत्तर हाथ ऊंचे लेकिन उस समय के नाहन पर लटके हुए और आधे वोटों से वित्तपोषित\n"
     ]
    }
   ],
   "source": [
    "\n",
    "translated = GoogleTranslator(source='auto', target='hi').translate(text)\n",
    "print(translated)"
   ]
  },
  {
   "cell_type": "markdown",
   "metadata": {},
   "source": [
    "Speech to text "
   ]
  },
  {
   "cell_type": "code",
   "execution_count": 8,
   "metadata": {},
   "outputs": [],
   "source": [
    "myobj = gTTS(text=translated, lang='hi' , slow=False)\n",
    "\n",
    "myobj.save(\"translated_audio.mp3\")\n"
   ]
  },
  {
   "cell_type": "markdown",
   "metadata": {},
   "source": [
    "Append the translated audio to video"
   ]
  },
  {
   "cell_type": "code",
   "execution_count": 9,
   "metadata": {},
   "outputs": [
    {
     "name": "stdout",
     "output_type": "stream",
     "text": [
      "Moviepy - Building video final_video.mp4.\n",
      "MoviePy - Writing audio in final_videoTEMP_MPY_wvf_snd.mp4\n"
     ]
    },
    {
     "name": "stderr",
     "output_type": "stream",
     "text": [
      "                                                                   \r"
     ]
    },
    {
     "name": "stdout",
     "output_type": "stream",
     "text": [
      "MoviePy - Done.\n",
      "Moviepy - Writing video final_video.mp4\n",
      "\n"
     ]
    },
    {
     "name": "stderr",
     "output_type": "stream",
     "text": [
      "                                                                 \r"
     ]
    },
    {
     "name": "stdout",
     "output_type": "stream",
     "text": [
      "Moviepy - Done !\n",
      "Moviepy - video ready final_video.mp4\n",
      "Translated audio appended to the video.\n"
     ]
    }
   ],
   "source": [
    "input_video_path = \"output_video.mp4\"\n",
    "translated_audio_path = \"translated_audio.mp3\"\n",
    "output_video_path = \"final_video.mp4\"\n",
    "video_clip = VideoFileClip(input_video_path)\n",
    "audio_clip = AudioFileClip(translated_audio_path)\n",
    "video_clip = video_clip.set_audio(audio_clip)\n",
    "video_clip.write_videofile(output_video_path, codec='libx264', audio_codec='aac', threads=4)\n",
    "print(\"Translated audio appended to the video.\")"
   ]
  },
  {
   "cell_type": "code",
   "execution_count": 10,
   "metadata": {},
   "outputs": [
    {
     "name": "stdout",
     "output_type": "stream",
     "text": [
      "Moviepy - Building video final_video.mp4.\n",
      "MoviePy - Writing audio in final_videoTEMP_MPY_wvf_snd.mp4\n"
     ]
    },
    {
     "name": "stderr",
     "output_type": "stream",
     "text": [
      "                                                                   \r"
     ]
    },
    {
     "name": "stdout",
     "output_type": "stream",
     "text": [
      "MoviePy - Done.\n",
      "Moviepy - Writing video final_video.mp4\n",
      "\n"
     ]
    },
    {
     "name": "stderr",
     "output_type": "stream",
     "text": [
      "                                                                 \r"
     ]
    },
    {
     "name": "stdout",
     "output_type": "stream",
     "text": [
      "Moviepy - Done !\n",
      "Moviepy - video ready final_video.mp4\n",
      "Translated audio appended to the video.\n"
     ]
    }
   ],
   "source": [
    "from moviepy.editor import VideoFileClip, AudioFileClip, CompositeVideoClip\n",
    "import shutil\n",
    "\n",
    "# Paths to your input video, translated audio, and output video\n",
    "input_video_path = \"input.mp4\"\n",
    "translated_audio_path = \"translated_audio.mp3\"\n",
    "output_video_path = \"final_video.mp4\"\n",
    "\n",
    "# Load the input video and translated audio\n",
    "video_clip = VideoFileClip(input_video_path)\n",
    "audio_clip = AudioFileClip(translated_audio_path)\n",
    "\n",
    "# Ensure audio duration matches video duration\n",
    "if audio_clip.duration > video_clip.duration:\n",
    "    # Trim the audio if it's longer than the video\n",
    "    audio_clip = audio_clip.subclip(0, video_clip.duration)\n",
    "elif audio_clip.duration < video_clip.duration:\n",
    "    # Extend the audio by looping if it's shorter than the video\n",
    "    num_loops = int(video_clip.duration / audio_clip.duration)\n",
    "    audio_clip = audio_clip.volumex(num_loops)\n",
    "\n",
    "# Set the audio of the video to the translated audio\n",
    "video_clip = video_clip.set_audio(audio_clip)\n",
    "\n",
    "# Write the final video\n",
    "video_clip.write_videofile(output_video_path, codec='libx264', audio_codec='aac', threads=4)\n",
    "\n",
    "# Clean up intermediate files (optional)\n",
    "shutil.copy(translated_audio_path, \"translated_audio_original.mp3\")\n",
    "shutil.move(\"translated_audio_original.mp3\", translated_audio_path)\n",
    "\n",
    "print(\"Translated audio appended to the video.\")\n"
   ]
  }
 ],
 "metadata": {
  "kernelspec": {
   "display_name": "Python 3",
   "language": "python",
   "name": "python3"
  },
  "language_info": {
   "codemirror_mode": {
    "name": "ipython",
    "version": 3
   },
   "file_extension": ".py",
   "mimetype": "text/x-python",
   "name": "python",
   "nbconvert_exporter": "python",
   "pygments_lexer": "ipython3",
   "version": "3.11.5"
  },
  "orig_nbformat": 4
 },
 "nbformat": 4,
 "nbformat_minor": 2
}
